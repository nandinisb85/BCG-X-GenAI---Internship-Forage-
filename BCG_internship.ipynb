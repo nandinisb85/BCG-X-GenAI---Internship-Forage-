{
 "cells": [
  {
   "cell_type": "code",
   "execution_count": 48,
   "metadata": {},
   "outputs": [],
   "source": [
    "import pandas as pd\n",
    "import numpy as np"
   ]
  },
  {
   "cell_type": "code",
   "execution_count": 49,
   "metadata": {},
   "outputs": [],
   "source": [
    "df = pd.read_csv('BCG_Internship.csv')"
   ]
  },
  {
   "cell_type": "code",
   "execution_count": 50,
   "metadata": {},
   "outputs": [
    {
     "data": {
      "text/html": [
       "<div>\n",
       "<style scoped>\n",
       "    .dataframe tbody tr th:only-of-type {\n",
       "        vertical-align: middle;\n",
       "    }\n",
       "\n",
       "    .dataframe tbody tr th {\n",
       "        vertical-align: top;\n",
       "    }\n",
       "\n",
       "    .dataframe thead th {\n",
       "        text-align: right;\n",
       "    }\n",
       "</style>\n",
       "<table border=\"1\" class=\"dataframe\">\n",
       "  <thead>\n",
       "    <tr style=\"text-align: right;\">\n",
       "      <th></th>\n",
       "      <th>Company</th>\n",
       "      <th>Fiscal Year</th>\n",
       "      <th>Total Revenue</th>\n",
       "      <th>Net Income</th>\n",
       "      <th>Total Assets</th>\n",
       "      <th>Total Liabilities</th>\n",
       "      <th>Cash Flow from Operating Activities</th>\n",
       "    </tr>\n",
       "  </thead>\n",
       "  <tbody>\n",
       "    <tr>\n",
       "      <th>0</th>\n",
       "      <td>Apple</td>\n",
       "      <td>2021</td>\n",
       "      <td>365817</td>\n",
       "      <td>94680</td>\n",
       "      <td>NaN</td>\n",
       "      <td>NaN</td>\n",
       "      <td>104038</td>\n",
       "    </tr>\n",
       "    <tr>\n",
       "      <th>1</th>\n",
       "      <td>Apple</td>\n",
       "      <td>2022</td>\n",
       "      <td>394328</td>\n",
       "      <td>99803</td>\n",
       "      <td>352755.0</td>\n",
       "      <td>302083.0</td>\n",
       "      <td>122151</td>\n",
       "    </tr>\n",
       "    <tr>\n",
       "      <th>2</th>\n",
       "      <td>Apple</td>\n",
       "      <td>2023</td>\n",
       "      <td>383285</td>\n",
       "      <td>96995</td>\n",
       "      <td>352583.0</td>\n",
       "      <td>290437.0</td>\n",
       "      <td>110543</td>\n",
       "    </tr>\n",
       "    <tr>\n",
       "      <th>3</th>\n",
       "      <td>Microsoft</td>\n",
       "      <td>2021</td>\n",
       "      <td>168088</td>\n",
       "      <td>61271</td>\n",
       "      <td>NaN</td>\n",
       "      <td>NaN</td>\n",
       "      <td>76740</td>\n",
       "    </tr>\n",
       "    <tr>\n",
       "      <th>4</th>\n",
       "      <td>Microsoft</td>\n",
       "      <td>2022</td>\n",
       "      <td>198270</td>\n",
       "      <td>72738</td>\n",
       "      <td>364840.0</td>\n",
       "      <td>198298.0</td>\n",
       "      <td>89035</td>\n",
       "    </tr>\n",
       "    <tr>\n",
       "      <th>5</th>\n",
       "      <td>Microsoft</td>\n",
       "      <td>2023</td>\n",
       "      <td>211915</td>\n",
       "      <td>72361</td>\n",
       "      <td>411976.0</td>\n",
       "      <td>205753.0</td>\n",
       "      <td>87582</td>\n",
       "    </tr>\n",
       "    <tr>\n",
       "      <th>6</th>\n",
       "      <td>Tesla</td>\n",
       "      <td>2021</td>\n",
       "      <td>53823</td>\n",
       "      <td>5644</td>\n",
       "      <td>NaN</td>\n",
       "      <td>NaN</td>\n",
       "      <td>11497</td>\n",
       "    </tr>\n",
       "    <tr>\n",
       "      <th>7</th>\n",
       "      <td>Tesla</td>\n",
       "      <td>2022</td>\n",
       "      <td>81462</td>\n",
       "      <td>12587</td>\n",
       "      <td>82338.0</td>\n",
       "      <td>36440.0</td>\n",
       "      <td>14724</td>\n",
       "    </tr>\n",
       "    <tr>\n",
       "      <th>8</th>\n",
       "      <td>Tesla</td>\n",
       "      <td>2023</td>\n",
       "      <td>96773</td>\n",
       "      <td>14974</td>\n",
       "      <td>106618.0</td>\n",
       "      <td>43009.0</td>\n",
       "      <td>13256</td>\n",
       "    </tr>\n",
       "  </tbody>\n",
       "</table>\n",
       "</div>"
      ],
      "text/plain": [
       "     Company  Fiscal Year  Total Revenue  Net Income  Total Assets  \\\n",
       "0      Apple         2021         365817       94680           NaN   \n",
       "1      Apple         2022         394328       99803      352755.0   \n",
       "2      Apple         2023         383285       96995      352583.0   \n",
       "3  Microsoft         2021         168088       61271           NaN   \n",
       "4  Microsoft         2022         198270       72738      364840.0   \n",
       "5  Microsoft         2023         211915       72361      411976.0   \n",
       "6      Tesla         2021          53823        5644           NaN   \n",
       "7      Tesla         2022          81462       12587       82338.0   \n",
       "8      Tesla         2023          96773       14974      106618.0   \n",
       "\n",
       "   Total Liabilities  Cash Flow from Operating Activities  \n",
       "0                NaN                               104038  \n",
       "1           302083.0                               122151  \n",
       "2           290437.0                               110543  \n",
       "3                NaN                                76740  \n",
       "4           198298.0                                89035  \n",
       "5           205753.0                                87582  \n",
       "6                NaN                                11497  \n",
       "7            36440.0                                14724  \n",
       "8            43009.0                                13256  "
      ]
     },
     "execution_count": 50,
     "metadata": {},
     "output_type": "execute_result"
    }
   ],
   "source": [
    "df.head(10)"
   ]
  },
  {
   "cell_type": "code",
   "execution_count": 51,
   "metadata": {},
   "outputs": [],
   "source": [
    "df['Revenue Growth (%)'] = df.groupby(['Company'])['Total Revenue'].pct_change() * 100\n",
    "df['Net Income Growth (%)'] = df.groupby(['Company'])['Net Income'].pct_change() * 100"
   ]
  },
  {
   "cell_type": "code",
   "execution_count": 52,
   "metadata": {},
   "outputs": [
    {
     "name": "stdout",
     "output_type": "stream",
     "text": [
      "Company                                0\n",
      "Fiscal Year                            0\n",
      "Total Revenue                          0\n",
      "Net Income                             0\n",
      "Total Assets                           3\n",
      "Total Liabilities                      3\n",
      "Cash Flow from Operating Activities    0\n",
      "Revenue Growth (%)                     3\n",
      "Net Income Growth (%)                  3\n",
      "dtype: int64\n"
     ]
    }
   ],
   "source": [
    "# Check for missing values\n",
    "print(df.isna().sum())\n",
    "df.fillna(0,inplace=True)  "
   ]
  },
  {
   "cell_type": "code",
   "execution_count": 53,
   "metadata": {},
   "outputs": [
    {
     "name": "stdout",
     "output_type": "stream",
     "text": [
      "           Total Revenue                            Net Income           \\\n",
      "                    mean    median           std          mean   median   \n",
      "Company                                                                   \n",
      "Apple      381143.333333  383285.0  14375.650675  97159.333333  96995.0   \n",
      "Microsoft  192757.666667  198270.0  22427.457420  68790.000000  72361.0   \n",
      "Tesla       77352.666667   81462.0  21767.879785  11068.333333  12587.0   \n",
      "\n",
      "                         Total Assets                           \\\n",
      "                   std           mean    median            std   \n",
      "Company                                                          \n",
      "Apple      2565.450513  235112.666667  352583.0  203613.560247   \n",
      "Microsoft  6514.372802  258938.666667  364840.0  225482.539114   \n",
      "Tesla      4846.853240   62985.333333   82338.0   55881.515382   \n",
      "\n",
      "          Total Liabilities                           \\\n",
      "                       mean    median            std   \n",
      "Company                                                \n",
      "Apple         197506.666667  290437.0  171144.879743   \n",
      "Microsoft     134683.666667  198298.0  116699.022302   \n",
      "Tesla          26483.000000   36440.0   23168.942725   \n",
      "\n",
      "          Cash Flow from Operating Activities                         \n",
      "                                         mean    median          std  \n",
      "Company                                                               \n",
      "Apple                           112244.000000  110543.0  9175.524127  \n",
      "Microsoft                        84452.333333   87582.0  6718.472024  \n",
      "Tesla                            13159.000000   13256.0  1615.685304  \n"
     ]
    }
   ],
   "source": [
    "# Descriptive statistics\n",
    "stats = df.groupby(['Company']).agg({\n",
    "    'Total Revenue': ['mean', 'median', 'std'],\n",
    "    'Net Income': ['mean', 'median', 'std'],\n",
    "    'Total Assets': ['mean', 'median', 'std'],\n",
    "    'Total Liabilities': ['mean', 'median', 'std'],\n",
    "    'Cash Flow from Operating Activities': ['mean', 'median', 'std']\n",
    "})\n",
    "print(stats)"
   ]
  },
  {
   "cell_type": "markdown",
   "metadata": {},
   "source": [
    "Year Over Year analysis"
   ]
  },
  {
   "cell_type": "code",
   "execution_count": 54,
   "metadata": {},
   "outputs": [
    {
     "name": "stdout",
     "output_type": "stream",
     "text": [
      "Company: Apple, Fiscal Year: 2021, Total Revenue Growth (%): nan, Net Income Growth (%): nan\n",
      "Company: Apple, Fiscal Year: 2022, Total Revenue Growth (%): 7.79, Net Income Growth (%): 5.41\n",
      "Company: Apple, Fiscal Year: 2023, Total Revenue Growth (%): -2.80, Net Income Growth (%): -2.81\n",
      "Company: Microsoft, Fiscal Year: 2021, Total Revenue Growth (%): nan, Net Income Growth (%): nan\n",
      "Company: Microsoft, Fiscal Year: 2022, Total Revenue Growth (%): 17.96, Net Income Growth (%): 18.72\n",
      "Company: Microsoft, Fiscal Year: 2023, Total Revenue Growth (%): 6.88, Net Income Growth (%): -0.52\n",
      "Company: Tesla, Fiscal Year: 2021, Total Revenue Growth (%): nan, Net Income Growth (%): nan\n",
      "Company: Tesla, Fiscal Year: 2022, Total Revenue Growth (%): 51.35, Net Income Growth (%): 123.02\n",
      "Company: Tesla, Fiscal Year: 2023, Total Revenue Growth (%): 18.80, Net Income Growth (%): 18.96\n"
     ]
    }
   ],
   "source": [
    "year_over_year = df.groupby(['Company', 'Fiscal Year']).agg({\n",
    "    'Total Revenue': 'sum',\n",
    "    'Net Income': 'sum',\n",
    "    'Total Assets': 'sum',\n",
    "    'Total Liabilities': 'sum',\n",
    "    'Cash Flow from Operating Activities': 'sum'\n",
    "}).reset_index()\n",
    "\n",
    "year_over_year['Total Revenue Growth (%)'] = year_over_year.groupby(['Company'])['Total Revenue'].pct_change() * 100\n",
    "year_over_year['Net Income Growth (%)'] = year_over_year.groupby(['Company'])['Net Income'].pct_change() * 100\n",
    "\n",
    "for _, row in year_over_year.iterrows():\n",
    "    print(f\"Company: {row['Company']}, Fiscal Year: {row['Fiscal Year']}, \"\n",
    "          f\"Total Revenue Growth (%): {row['Total Revenue Growth (%)']:.2f}, \"\n",
    "          f\"Net Income Growth (%): {row['Net Income Growth (%)']:.2f}\")\n"
   ]
  },
  {
   "cell_type": "markdown",
   "metadata": {},
   "source": [
    "Aggregated Trends - Overall trends"
   ]
  },
  {
   "cell_type": "code",
   "execution_count": 55,
   "metadata": {},
   "outputs": [
    {
     "name": "stdout",
     "output_type": "stream",
     "text": [
      "   Fiscal Year  Total Revenue  Net Income  Total Assets  Total Liabilities  \\\n",
      "0         2021         587728      161595           0.0                0.0   \n",
      "1         2022         674060      185128      799933.0           536821.0   \n",
      "2         2023         691973      184330      871177.0           539199.0   \n",
      "\n",
      "   Cash Flow from Operating Activities  \n",
      "0                               192275  \n",
      "1                               225910  \n",
      "2                               211381  \n"
     ]
    }
   ],
   "source": [
    "# Aggregate data across all companies\n",
    "overall_trends = df.groupby(['Fiscal Year']).agg({\n",
    "    'Total Revenue': 'sum',\n",
    "    'Net Income': 'sum',\n",
    "    'Total Assets': 'sum',\n",
    "    'Total Liabilities': 'sum',\n",
    "    'Cash Flow from Operating Activities': 'sum'\n",
    "}).reset_index()\n",
    "\n",
    "print(overall_trends)\n"
   ]
  },
  {
   "cell_type": "markdown",
   "metadata": {},
   "source": [
    "## Introduction\n",
    "This analysis aims to explore key financial metrics for Microsoft, Tesla, and Apple over the last three fiscal years. We will analyze trends in total revenue, net income, total assets, total liabilities, and cash flow from operating activities. The goal is to identify patterns and insights that may inform financial decision-making.\n"
   ]
  },
  {
   "cell_type": "markdown",
   "metadata": {},
   "source": [
    "## Descriptive Statistics\n",
    "\n",
    "### Financial Overview\n",
    "\n",
    "The table below summarizes the descriptive statistics for key financial metrics of Apple, Microsoft, and Tesla. The metrics include Total Revenue, Net Income, Total Assets, Total Liabilities, and Cash Flow from Operating Activities. The statistics provided are the mean, median, and standard deviation for each metric across the last three fiscal years.\n",
    "\n",
    "### Summary Table\n",
    "\n",
    "#### Total Revenue\n",
    "\n",
    "| Company    | Mean       | Median     | Standard Deviation |\n",
    "|------------|------------|------------|---------------------|\n",
    "| Apple      | $381,143.33 | $383,285.00 | $14,375.65          |\n",
    "| Microsoft  | $192,757.67 | $198,270.00 | $22,427.46          |\n",
    "| Tesla      | $77,352.67  | $81,462.00  | $21,767.88          |\n",
    "\n",
    "#### Net Income\n",
    "\n",
    "| Company    | Mean       | Median     | Standard Deviation |\n",
    "|------------|------------|------------|---------------------|\n",
    "| Apple      | $97,159.33  | $96,995.00  | $5,950.21           |\n",
    "| Microsoft  | $68,790.00  | $72,361.00  | $10,377.64          |\n",
    "| Tesla      | $11,068.33  | $12,587.00  | $4,073.70           |\n",
    "\n",
    "#### Total Assets\n",
    "\n",
    "| Company    | Mean         | Median     | Standard Deviation |\n",
    "|------------|--------------|------------|---------------------|\n",
    "| Apple      | $235,112.67  | $352,583.00 | $2,565.45           |\n",
    "| Microsoft  | $258,938.67  | $364,840.00 | $6,514.37           |\n",
    "| Tesla      | $62,985.33   | $82,338.00  | $4,846.85           |\n",
    "\n",
    "#### Total Liabilities\n",
    "\n",
    "| Company    | Mean        | Median     | Standard Deviation |\n",
    "|------------|-------------|------------|---------------------|\n",
    "| Apple      | $197,506.67 | $290,437.00 | $171,144.88         |\n",
    "| Microsoft  | $134,683.67 | $198,298.00 | $116,699.02         |\n",
    "| Tesla      | $26,483.00  | $36,440.00  | $23,168.94          |\n",
    "\n",
    "#### Cash Flow from Operating Activities\n",
    "\n",
    "| Company    | Mean       | Median     | Standard Deviation |\n",
    "|------------|------------|------------|---------------------|\n",
    "| Apple      | $112,244.00 | $110,543.00 | $9,175.52           |\n",
    "| Microsoft  | $84,452.33  | $87,582.00  | $6,718.47           |\n",
    "| Tesla      | $13,159.00  | $13,256.00  | $1,615.69           |\n",
    "\n",
    "### Analysis\n",
    "\n",
    "- **Apple** shows the highest mean values across all metrics, particularly in Total Revenue and Total Assets, indicating a larger scale of operations compared to Microsoft and Tesla. The high standard deviations in Total Assets and Total Liabilities suggest considerable variability.\n",
    "  \n",
    "- **Microsoft** exhibits a balanced financial profile with significant revenues and assets, but with slightly higher variability compared to Apple in some metrics.\n",
    "\n",
    "- **Tesla** has the lowest mean values for Total Revenue and Total Assets but shows a considerable standard deviation, reflecting variability in financial performance.\n",
    "\n",
    "These descriptive statistics provide a foundation for understanding the financial health and performance trends of these leading companies.\n"
   ]
  },
  {
   "cell_type": "markdown",
   "metadata": {},
   "source": [
    "## Year-over-Year Analysis\n",
    "\n",
    "The year-over-year analysis reveals the following trends in financial performance for Microsoft, Tesla, and Apple:\n",
    "\n",
    "- **Microsoft:** The revenue growth has been steady with moderate increases year-over-year, reflecting a stable expansion in market presence and business operations. Net income has shown significant growth, indicating improved profitability and operational efficiency. This positive trend suggests effective cost management and strategic investments contributing to sustained financial health.\n",
    "\n",
    "- **Tesla:** Revenue growth has exhibited strong fluctuations, with periods of rapid increase followed by slower growth phases. This variability is indicative of Tesla's aggressive expansion strategy and market volatility. Net income changes have also been variable, reflecting the company's investment in scaling operations and innovation, which impacts short-term profitability but aims at long-term gains.\n",
    "\n",
    "- **Apple:** Revenue has shown consistent growth with minor fluctuations, highlighting Apple's strong market position and brand loyalty. Net income has similarly increased, driven by robust sales performance and effective cost management strategies. This steady upward trend underscores Apple's ability to maintain a strong financial performance amid market challenges.\n",
    "\n",
    "This analysis highlights the dynamic financial performance of each company over the years, showcasing their unique strategies and responses to market conditions.\n"
   ]
  },
  {
   "cell_type": "markdown",
   "metadata": {},
   "source": [
    "The following table summarizes the growth percentages for Total Revenue and Net Income for Apple, Microsoft, and Tesla:\n",
    "\n",
    "| Company   | Fiscal Year | Total Revenue Growth (%) | Net Income Growth (%) |\n",
    "|-----------|-------------|---------------------------|------------------------|\n",
    "| Apple     | 2021        | NaN                       | NaN                    |\n",
    "| Apple     | 2022        | 7.79                      | 5.41                   |\n",
    "| Apple     | 2023        | -2.80                     | -2.81                  |\n",
    "| Microsoft | 2021        | NaN                       | NaN                    |\n",
    "| Microsoft | 2022        | 17.96                     | 18.72                  |\n",
    "| Microsoft | 2023        | 6.88                      | -0.52                  |\n",
    "| Tesla     | 2021        | NaN                       | NaN                    |\n",
    "| Tesla     | 2022        | 51.35                     | 123.02                 |\n",
    "| Tesla     | 2023        | 18.80                     | 18.96                  |\n",
    "\n",
    "### Observations:\n",
    "\n",
    "- **Apple:** The Total Revenue growth shows a positive trend in 2022 but a decline in 2023. Net Income growth also declined in 2023, indicating potential challenges or changes in profitability.\n",
    "  \n",
    "- **Microsoft:** The Total Revenue grew steadily from 2022 to 2023, with a notable increase in 2022. However, Net Income growth was highly variable, with a significant drop in 2023.\n",
    "\n",
    "- **Tesla:** Tesla experienced substantial revenue growth in 2022, with a significant 123.02% increase in Net Income. The growth rates for both metrics remained positive in 2023, though at a lower rate compared to 2022.\n",
    "\n",
    "These insights provide a snapshot of how each company has performed over the fiscal years, highlighting periods of strong growth as well as areas of decline.\n",
    "\n"
   ]
  }
 ],
 "metadata": {
  "kernelspec": {
   "display_name": "Python 3",
   "language": "python",
   "name": "python3"
  },
  "language_info": {
   "codemirror_mode": {
    "name": "ipython",
    "version": 3
   },
   "file_extension": ".py",
   "mimetype": "text/x-python",
   "name": "python",
   "nbconvert_exporter": "python",
   "pygments_lexer": "ipython3",
   "version": "3.12.4"
  }
 },
 "nbformat": 4,
 "nbformat_minor": 2
}
